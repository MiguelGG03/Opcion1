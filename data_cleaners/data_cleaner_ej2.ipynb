{
 "cells": [
  {
   "cell_type": "code",
   "execution_count": 2,
   "metadata": {},
   "outputs": [
    {
     "name": "stdout",
     "output_type": "stream",
     "text": [
      "Collecting pyreadr\n",
      "  Using cached pyreadr-0.4.7.tar.gz (1.2 MB)\n",
      "  Installing build dependencies: started\n",
      "  Installing build dependencies: finished with status 'done'\n",
      "  Getting requirements to build wheel: started\n",
      "  Getting requirements to build wheel: finished with status 'error'\n",
      "Collecting pyreadr\n",
      "  Using cached pyreadr-0.4.7.tar.gz (1.2 MB)\n",
      "  Installing build dependencies: started\n",
      "  Installing build dependencies: finished with status 'done'\n",
      "  Getting requirements to build wheel: started\n",
      "  Getting requirements to build wheel: finished with status 'error'\n"
     ]
    },
    {
     "name": "stderr",
     "output_type": "stream",
     "text": [
      "  error: subprocess-exited-with-error\n",
      "  \n",
      "  × Getting requirements to build wheel did not run successfully.\n",
      "  │ exit code: 1\n",
      "  ╰─> [15 lines of output]\n",
      "      Traceback (most recent call last):\n",
      "        File \"C:\\Users\\mglez\\AppData\\Local\\Programs\\Python\\Python38-32\\lib\\site-packages\\pip\\_vendor\\pep517\\in_process\\_in_process.py\", line 351, in <module>\n",
      "          main()\n",
      "        File \"C:\\Users\\mglez\\AppData\\Local\\Programs\\Python\\Python38-32\\lib\\site-packages\\pip\\_vendor\\pep517\\in_process\\_in_process.py\", line 333, in main\n",
      "          json_out['return_val'] = hook(**hook_input['kwargs'])\n",
      "        File \"C:\\Users\\mglez\\AppData\\Local\\Programs\\Python\\Python38-32\\lib\\site-packages\\pip\\_vendor\\pep517\\in_process\\_in_process.py\", line 118, in get_requires_for_build_wheel\n",
      "          return hook(config_settings)\n",
      "        File \"C:\\Users\\mglez\\AppData\\Local\\Temp\\pip-build-env-7xtbnxs6\\overlay\\Lib\\site-packages\\setuptools\\build_meta.py\", line 338, in get_requires_for_build_wheel\n",
      "          return self._get_build_requires(config_settings, requirements=['wheel'])\n",
      "        File \"C:\\Users\\mglez\\AppData\\Local\\Temp\\pip-build-env-7xtbnxs6\\overlay\\Lib\\site-packages\\setuptools\\build_meta.py\", line 320, in _get_build_requires\n",
      "          self.run_setup()\n",
      "        File \"C:\\Users\\mglez\\AppData\\Local\\Temp\\pip-build-env-7xtbnxs6\\overlay\\Lib\\site-packages\\setuptools\\build_meta.py\", line 335, in run_setup\n",
      "          exec(code, locals())\n",
      "        File \"<string>\", line 33, in <module>\n",
      "      Exception: Python 32 bit is not supported on Windows. Please use Python 64 bit\n",
      "      [end of output]\n",
      "  \n",
      "  note: This error originates from a subprocess, and is likely not a problem with pip.\n",
      "error: subprocess-exited-with-error\n",
      "\n",
      "× Getting requirements to build wheel did not run successfully.\n",
      "│ exit code: 1\n",
      "╰─> See above for output.\n",
      "\n",
      "note: This error originates from a subprocess, and is likely not a problem with pip.\n",
      "  error: subprocess-exited-with-error\n",
      "  \n",
      "  × Getting requirements to build wheel did not run successfully.\n",
      "  │ exit code: 1\n",
      "  ╰─> [15 lines of output]\n",
      "      Traceback (most recent call last):\n",
      "        File \"C:\\Users\\mglez\\AppData\\Local\\Programs\\Python\\Python38-32\\lib\\site-packages\\pip\\_vendor\\pep517\\in_process\\_in_process.py\", line 351, in <module>\n",
      "          main()\n",
      "        File \"C:\\Users\\mglez\\AppData\\Local\\Programs\\Python\\Python38-32\\lib\\site-packages\\pip\\_vendor\\pep517\\in_process\\_in_process.py\", line 333, in main\n",
      "          json_out['return_val'] = hook(**hook_input['kwargs'])\n",
      "        File \"C:\\Users\\mglez\\AppData\\Local\\Programs\\Python\\Python38-32\\lib\\site-packages\\pip\\_vendor\\pep517\\in_process\\_in_process.py\", line 118, in get_requires_for_build_wheel\n",
      "          return hook(config_settings)\n",
      "        File \"C:\\Users\\mglez\\AppData\\Local\\Temp\\pip-build-env-8t3cmgke\\overlay\\Lib\\site-packages\\setuptools\\build_meta.py\", line 338, in get_requires_for_build_wheel\n",
      "          return self._get_build_requires(config_settings, requirements=['wheel'])\n",
      "        File \"C:\\Users\\mglez\\AppData\\Local\\Temp\\pip-build-env-8t3cmgke\\overlay\\Lib\\site-packages\\setuptools\\build_meta.py\", line 320, in _get_build_requires\n",
      "          self.run_setup()\n",
      "        File \"C:\\Users\\mglez\\AppData\\Local\\Temp\\pip-build-env-8t3cmgke\\overlay\\Lib\\site-packages\\setuptools\\build_meta.py\", line 335, in run_setup\n",
      "          exec(code, locals())\n",
      "        File \"<string>\", line 33, in <module>\n",
      "      Exception: Python 32 bit is not supported on Windows. Please use Python 64 bit\n",
      "      [end of output]\n",
      "  \n",
      "  note: This error originates from a subprocess, and is likely not a problem with pip.\n",
      "error: subprocess-exited-with-error\n",
      "\n",
      "× Getting requirements to build wheel did not run successfully.\n",
      "│ exit code: 1\n",
      "╰─> See above for output.\n",
      "\n",
      "note: This error originates from a subprocess, and is likely not a problem with pip.\n"
     ]
    }
   ],
   "source": [
    "!pip install pyreadr"
   ]
  },
  {
   "cell_type": "code",
   "execution_count": null,
   "metadata": {},
   "outputs": [],
   "source": [
    "import pyreadr"
   ]
  }
 ],
 "metadata": {
  "kernelspec": {
   "display_name": "Python 3",
   "language": "python",
   "name": "python3"
  },
  "language_info": {
   "codemirror_mode": {
    "name": "ipython",
    "version": 3
   },
   "file_extension": ".py",
   "mimetype": "text/x-python",
   "name": "python",
   "nbconvert_exporter": "python",
   "pygments_lexer": "ipython3",
   "version": "3.10.8"
  },
  "orig_nbformat": 4,
  "vscode": {
   "interpreter": {
    "hash": "575faad283c17a5da032e1e680d52dd2e821f6503aa233436e9f521bf1859905"
   }
  }
 },
 "nbformat": 4,
 "nbformat_minor": 2
}
